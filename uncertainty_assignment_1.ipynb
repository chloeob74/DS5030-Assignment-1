{
 "cells": [
  {
   "cell_type": "markdown",
   "id": "e8bf9ad9",
   "metadata": {},
   "source": [
    "# Assignment 1\n",
    "### Understanding Uncertainty\n",
    "### Due 9/5"
   ]
  },
  {
   "cell_type": "markdown",
   "id": "934b4172",
   "metadata": {},
   "source": [
    "## Question 1-3\n",
    "1. Create a new public repo on Github under your account. Include a readme file.\n",
    "2. Clone it to your machine. Put this file into that repo.\n",
    "3. Use the following function to download the example data for the course:"
   ]
  },
  {
   "cell_type": "code",
   "execution_count": 2,
   "id": "f89c1181",
   "metadata": {},
   "outputs": [
    {
     "name": "stdout",
     "output_type": "stream",
     "text": [
      "Download file already exists\n",
      "Data directory already exists\n"
     ]
    }
   ],
   "source": [
    "def download_data(force=False):\n",
    "    \"\"\"Download and extract course data from Zenodo.\"\"\"\n",
    "    import urllib.request, zipfile, os\n",
    "    \n",
    "    zip_path = 'data.zip'\n",
    "    data_dir = 'data'\n",
    "    \n",
    "    if not os.path.exists(zip_path) or force:\n",
    "        print(\"Downloading course data\")\n",
    "        urllib.request.urlretrieve(\n",
    "            'https://zenodo.org/records/16954427/files/data.zip?download=1',\n",
    "            zip_path\n",
    "        )\n",
    "        print(\"Download complete\")\n",
    "    else:\n",
    "        print(\"Download file already exists\")\n",
    "        \n",
    "    if not os.path.exists(data_dir) or force:\n",
    "        print(\"Extracting data files...\")\n",
    "        with zipfile.ZipFile(zip_path, 'r') as zip_ref:\n",
    "            zip_ref.extractall(data_dir)\n",
    "        print(\"Data extracted\")\n",
    "    else:\n",
    "        print(\"Data directory already exists\")\n",
    "\n",
    "download_data()"
   ]
  },
  {
   "cell_type": "markdown",
   "id": "45a99440",
   "metadata": {},
   "source": [
    "## Question 4. \n",
    "- Open one of the datasets using Pandas:\n",
    "    1. `ames_prices.csv`: Housing characteristics and prices\n",
    "    2. `college_completion.csv`: Public, nonprofit, and for-profit educational institutions, graduation rates, and financial aid\n",
    "    3. `ForeignGifts_edu.csv`: Monetary and in-kind transfers from foreign entities to U.S. educational institutions\n",
    "    4. `iowa.csv`: Liquor sales in Iowa, at the transaction level\n",
    "    5. `metabric.csv`: Cancer patient and outcome data\n",
    "    6. `mn_police_use_of_force.csv`: Records of physical altercations between Minnessota police and private citizens\n",
    "    7. `nhanes_data_17_18.csv`: National Health and Nutrition Examination Survey\n",
    "    8. `tuna.csv`: Yellowfin Tuna Genome (I don't recommend this one; it's just a sequence of G, C, A, T )\n",
    "    9. `va_procurement.csv`: Public spending by the state of Virginia"
   ]
  },
  {
   "cell_type": "code",
   "execution_count": 3,
   "id": "50a0931c",
   "metadata": {},
   "outputs": [],
   "source": [
    "import pandas as pd\n",
    "df = pd.read_csv('data/college_completion.csv')"
   ]
  },
  {
   "cell_type": "code",
   "execution_count": 4,
   "id": "b727169c",
   "metadata": {},
   "outputs": [
    {
     "data": {
      "text/html": [
       "<div>\n",
       "<style scoped>\n",
       "    .dataframe tbody tr th:only-of-type {\n",
       "        vertical-align: middle;\n",
       "    }\n",
       "\n",
       "    .dataframe tbody tr th {\n",
       "        vertical-align: top;\n",
       "    }\n",
       "\n",
       "    .dataframe thead th {\n",
       "        text-align: right;\n",
       "    }\n",
       "</style>\n",
       "<table border=\"1\" class=\"dataframe\">\n",
       "  <thead>\n",
       "    <tr style=\"text-align: right;\">\n",
       "      <th></th>\n",
       "      <th>index</th>\n",
       "      <th>unitid</th>\n",
       "      <th>chronname</th>\n",
       "      <th>city</th>\n",
       "      <th>state</th>\n",
       "      <th>level</th>\n",
       "      <th>control</th>\n",
       "      <th>basic</th>\n",
       "      <th>hbcu</th>\n",
       "      <th>flagship</th>\n",
       "      <th>...</th>\n",
       "      <th>vsa_grad_after6_transfer</th>\n",
       "      <th>vsa_grad_elsewhere_after6_transfer</th>\n",
       "      <th>vsa_enroll_after6_transfer</th>\n",
       "      <th>vsa_enroll_elsewhere_after6_transfer</th>\n",
       "      <th>similar</th>\n",
       "      <th>state_sector_ct</th>\n",
       "      <th>carnegie_ct</th>\n",
       "      <th>counted_pct</th>\n",
       "      <th>nicknames</th>\n",
       "      <th>cohort_size</th>\n",
       "    </tr>\n",
       "  </thead>\n",
       "  <tbody>\n",
       "    <tr>\n",
       "      <th>0</th>\n",
       "      <td>0</td>\n",
       "      <td>100654</td>\n",
       "      <td>Alabama A&amp;M University</td>\n",
       "      <td>Normal</td>\n",
       "      <td>Alabama</td>\n",
       "      <td>4-year</td>\n",
       "      <td>Public</td>\n",
       "      <td>Masters Colleges and Universities--larger prog...</td>\n",
       "      <td>X</td>\n",
       "      <td>NaN</td>\n",
       "      <td>...</td>\n",
       "      <td>36.4</td>\n",
       "      <td>5.6</td>\n",
       "      <td>17.2</td>\n",
       "      <td>11.1</td>\n",
       "      <td>232937|100724|405997|113607|139533|144005|2285...</td>\n",
       "      <td>13</td>\n",
       "      <td>386</td>\n",
       "      <td>99.7|07</td>\n",
       "      <td>NaN</td>\n",
       "      <td>882.0</td>\n",
       "    </tr>\n",
       "    <tr>\n",
       "      <th>1</th>\n",
       "      <td>1</td>\n",
       "      <td>100663</td>\n",
       "      <td>University of Alabama at Birmingham</td>\n",
       "      <td>Birmingham</td>\n",
       "      <td>Alabama</td>\n",
       "      <td>4-year</td>\n",
       "      <td>Public</td>\n",
       "      <td>Research Universities--very high research acti...</td>\n",
       "      <td>NaN</td>\n",
       "      <td>NaN</td>\n",
       "      <td>...</td>\n",
       "      <td>NaN</td>\n",
       "      <td>NaN</td>\n",
       "      <td>NaN</td>\n",
       "      <td>NaN</td>\n",
       "      <td>196060|180461|201885|145600|209542|236939|1268...</td>\n",
       "      <td>13</td>\n",
       "      <td>106</td>\n",
       "      <td>56.0|07</td>\n",
       "      <td>UAB</td>\n",
       "      <td>1376.0</td>\n",
       "    </tr>\n",
       "    <tr>\n",
       "      <th>2</th>\n",
       "      <td>2</td>\n",
       "      <td>100690</td>\n",
       "      <td>Amridge University</td>\n",
       "      <td>Montgomery</td>\n",
       "      <td>Alabama</td>\n",
       "      <td>4-year</td>\n",
       "      <td>Private not-for-profit</td>\n",
       "      <td>Baccalaureate Colleges--Arts &amp; Sciences</td>\n",
       "      <td>NaN</td>\n",
       "      <td>NaN</td>\n",
       "      <td>...</td>\n",
       "      <td>NaN</td>\n",
       "      <td>NaN</td>\n",
       "      <td>NaN</td>\n",
       "      <td>NaN</td>\n",
       "      <td>217925|441511|205124|247825|197647|221856|1353...</td>\n",
       "      <td>16</td>\n",
       "      <td>252</td>\n",
       "      <td>100.0|07</td>\n",
       "      <td>NaN</td>\n",
       "      <td>3.0</td>\n",
       "    </tr>\n",
       "    <tr>\n",
       "      <th>3</th>\n",
       "      <td>3</td>\n",
       "      <td>100706</td>\n",
       "      <td>University of Alabama at Huntsville</td>\n",
       "      <td>Huntsville</td>\n",
       "      <td>Alabama</td>\n",
       "      <td>4-year</td>\n",
       "      <td>Public</td>\n",
       "      <td>Research Universities--very high research acti...</td>\n",
       "      <td>NaN</td>\n",
       "      <td>NaN</td>\n",
       "      <td>...</td>\n",
       "      <td>0.0</td>\n",
       "      <td>0.0</td>\n",
       "      <td>0.0</td>\n",
       "      <td>0.0</td>\n",
       "      <td>232186|133881|196103|196413|207388|171128|1900...</td>\n",
       "      <td>13</td>\n",
       "      <td>106</td>\n",
       "      <td>43.1|07</td>\n",
       "      <td>UAH</td>\n",
       "      <td>759.0</td>\n",
       "    </tr>\n",
       "    <tr>\n",
       "      <th>4</th>\n",
       "      <td>4</td>\n",
       "      <td>100724</td>\n",
       "      <td>Alabama State University</td>\n",
       "      <td>Montgomery</td>\n",
       "      <td>Alabama</td>\n",
       "      <td>4-year</td>\n",
       "      <td>Public</td>\n",
       "      <td>Masters Colleges and Universities--larger prog...</td>\n",
       "      <td>X</td>\n",
       "      <td>NaN</td>\n",
       "      <td>...</td>\n",
       "      <td>NaN</td>\n",
       "      <td>NaN</td>\n",
       "      <td>NaN</td>\n",
       "      <td>NaN</td>\n",
       "      <td>100654|232937|242617|243197|144005|241739|2354...</td>\n",
       "      <td>13</td>\n",
       "      <td>386</td>\n",
       "      <td>88.0|07</td>\n",
       "      <td>ASU</td>\n",
       "      <td>1351.0</td>\n",
       "    </tr>\n",
       "  </tbody>\n",
       "</table>\n",
       "<p>5 rows × 63 columns</p>\n",
       "</div>"
      ],
      "text/plain": [
       "   index  unitid                            chronname        city    state  \\\n",
       "0      0  100654               Alabama A&M University      Normal  Alabama   \n",
       "1      1  100663  University of Alabama at Birmingham  Birmingham  Alabama   \n",
       "2      2  100690                   Amridge University  Montgomery  Alabama   \n",
       "3      3  100706  University of Alabama at Huntsville  Huntsville  Alabama   \n",
       "4      4  100724             Alabama State University  Montgomery  Alabama   \n",
       "\n",
       "    level                 control  \\\n",
       "0  4-year                  Public   \n",
       "1  4-year                  Public   \n",
       "2  4-year  Private not-for-profit   \n",
       "3  4-year                  Public   \n",
       "4  4-year                  Public   \n",
       "\n",
       "                                               basic hbcu flagship  ...  \\\n",
       "0  Masters Colleges and Universities--larger prog...    X      NaN  ...   \n",
       "1  Research Universities--very high research acti...  NaN      NaN  ...   \n",
       "2            Baccalaureate Colleges--Arts & Sciences  NaN      NaN  ...   \n",
       "3  Research Universities--very high research acti...  NaN      NaN  ...   \n",
       "4  Masters Colleges and Universities--larger prog...    X      NaN  ...   \n",
       "\n",
       "   vsa_grad_after6_transfer  vsa_grad_elsewhere_after6_transfer  \\\n",
       "0                      36.4                                 5.6   \n",
       "1                       NaN                                 NaN   \n",
       "2                       NaN                                 NaN   \n",
       "3                       0.0                                 0.0   \n",
       "4                       NaN                                 NaN   \n",
       "\n",
       "  vsa_enroll_after6_transfer  vsa_enroll_elsewhere_after6_transfer  \\\n",
       "0                       17.2                                  11.1   \n",
       "1                        NaN                                   NaN   \n",
       "2                        NaN                                   NaN   \n",
       "3                        0.0                                   0.0   \n",
       "4                        NaN                                   NaN   \n",
       "\n",
       "                                             similar  state_sector_ct  \\\n",
       "0  232937|100724|405997|113607|139533|144005|2285...               13   \n",
       "1  196060|180461|201885|145600|209542|236939|1268...               13   \n",
       "2  217925|441511|205124|247825|197647|221856|1353...               16   \n",
       "3  232186|133881|196103|196413|207388|171128|1900...               13   \n",
       "4  100654|232937|242617|243197|144005|241739|2354...               13   \n",
       "\n",
       "   carnegie_ct  counted_pct  nicknames  cohort_size  \n",
       "0          386      99.7|07        NaN        882.0  \n",
       "1          106      56.0|07        UAB       1376.0  \n",
       "2          252     100.0|07        NaN          3.0  \n",
       "3          106      43.1|07        UAH        759.0  \n",
       "4          386      88.0|07        ASU       1351.0  \n",
       "\n",
       "[5 rows x 63 columns]"
      ]
     },
     "execution_count": 4,
     "metadata": {},
     "output_type": "execute_result"
    }
   ],
   "source": [
    "df.head()"
   ]
  },
  {
   "cell_type": "markdown",
   "id": "06f4d89a",
   "metadata": {},
   "source": [
    "## Question 5. \n",
    "- **Pick two or three variables and briefly analyze them**\n",
    "    - **Is it a categorical or numeric variable?**\n",
    "    - **How many missing values are there? (`df['var'].isna()` and `np.sum()`)**\n",
    "    - **If categorical, tabulate the values (`df['var'].value_counts()`) and if numeric, get a summary (`df['var'].describe()`)**"
   ]
  },
  {
   "cell_type": "markdown",
   "id": "6c461a37",
   "metadata": {},
   "source": [
    "I choose to look at the variables `state`, `control`, and `grad_100_value`.\n",
    "\n",
    "### `state`:\n",
    "- This variable indicates the geographic location (U.S. state) of the institution\n",
    "- This is a categorical variable for geographic location\n",
    "- By running the code below, we see that there are no missing values for the `state` column."
   ]
  },
  {
   "cell_type": "code",
   "execution_count": 5,
   "id": "0eb80f61",
   "metadata": {},
   "outputs": [
    {
     "name": "stdout",
     "output_type": "stream",
     "text": [
      "0\n"
     ]
    }
   ],
   "source": [
    "is_na = df['state'].isna().sum()\n",
    "print(is_na)"
   ]
  },
  {
   "cell_type": "markdown",
   "id": "0731138b",
   "metadata": {},
   "source": [
    "### **Value Count By State:**"
   ]
  },
  {
   "cell_type": "code",
   "execution_count": 6,
   "id": "984e2aa8",
   "metadata": {},
   "outputs": [
    {
     "name": "stdout",
     "output_type": "stream",
     "text": [
      "state\n",
      "California              350\n",
      "New York                241\n",
      "Pennsylvania            217\n",
      "Texas                   207\n",
      "Ohio                    185\n",
      "Florida                 176\n",
      "Illinois                141\n",
      "North Carolina          135\n",
      "Georgia                 106\n",
      "Virginia                104\n",
      "Missouri                103\n",
      "Minnesota               101\n",
      "Massachusetts           100\n",
      "Michigan                 94\n",
      "Tennessee                94\n",
      "Washington               73\n",
      "Wisconsin                71\n",
      "Colorado                 70\n",
      "Alabama                  69\n",
      "Kentucky                 67\n",
      "Indiana                  67\n",
      "South Carolina           66\n",
      "Arizona                  63\n",
      "Kansas                   62\n",
      "Iowa                     61\n",
      "Oklahoma                 56\n",
      "Louisiana                56\n",
      "New Jersey               55\n",
      "Maryland                 52\n",
      "Oregon                   50\n",
      "Arkansas                 48\n",
      "New Mexico               40\n",
      "West Virginia            39\n",
      "Mississippi              36\n",
      "Nebraska                 36\n",
      "Connecticut              35\n",
      "Utah                     30\n",
      "Maine                    29\n",
      "New Hampshire            24\n",
      "South Dakota             23\n",
      "Montana                  22\n",
      "Vermont                  20\n",
      "Nevada                   20\n",
      "North Dakota             20\n",
      "Hawaii                   18\n",
      "Idaho                    16\n",
      "District of Columbia     12\n",
      "Rhode Island             11\n",
      "Delaware                 11\n",
      "Wyoming                   9\n",
      "Alaska                    7\n",
      "Name: count, dtype: int64\n"
     ]
    }
   ],
   "source": [
    "state_count = df['state'].value_counts()\n",
    "print(state_count)"
   ]
  },
  {
   "cell_type": "markdown",
   "id": "b9196d2b",
   "metadata": {},
   "source": [
    "### `control`:\n",
    "- This variable indicates the type of institution (public, private not-for-profit, private for-profit)\n",
    "- This is a categorical variable\n",
    "- By running the code below, we see that there are no missing values for the `control` column."
   ]
  },
  {
   "cell_type": "code",
   "execution_count": 7,
   "id": "d722ba20",
   "metadata": {},
   "outputs": [
    {
     "name": "stdout",
     "output_type": "stream",
     "text": [
      "0\n"
     ]
    }
   ],
   "source": [
    "control_na = df['control'].isna().sum()\n",
    "print(control_na)"
   ]
  },
  {
   "cell_type": "markdown",
   "id": "f0298d96",
   "metadata": {},
   "source": [
    "### **Value Count By Institution Type:**"
   ]
  },
  {
   "cell_type": "code",
   "execution_count": 8,
   "id": "ea6f5eca",
   "metadata": {},
   "outputs": [
    {
     "name": "stdout",
     "output_type": "stream",
     "text": [
      "control\n",
      "Public                    1558\n",
      "Private not-for-profit    1248\n",
      "Private for-profit         992\n",
      "Name: count, dtype: int64\n"
     ]
    }
   ],
   "source": [
    "control_count = df['control'].value_counts()\n",
    "print(control_count)"
   ]
  },
  {
   "cell_type": "markdown",
   "id": "087c6810",
   "metadata": {},
   "source": [
    "### `grad_100_value`:\n",
    "- This variable indicates the institutions 4-year graduation rate\n",
    "- This is a numeric variable\n",
    "- By running the code below, we see that there are 331 missing values for the `grad_100_value` column."
   ]
  },
  {
   "cell_type": "code",
   "execution_count": 9,
   "id": "c2198219",
   "metadata": {},
   "outputs": [
    {
     "name": "stdout",
     "output_type": "stream",
     "text": [
      "331\n"
     ]
    }
   ],
   "source": [
    "grad_value_na = df['grad_100_value'].isna().sum()\n",
    "print(grad_value_na)"
   ]
  },
  {
   "cell_type": "markdown",
   "id": "3e6b9ae2",
   "metadata": {},
   "source": [
    "### **Summary Statistics:**"
   ]
  },
  {
   "cell_type": "code",
   "execution_count": null,
   "id": "b06d09b8",
   "metadata": {},
   "outputs": [],
   "source": [
    "grad_value_summary = df[\"grad_100_value\"].describe()\n",
    "print(grad_value_summary)"
   ]
  },
  {
   "cell_type": "markdown",
   "id": "3e6282be",
   "metadata": {},
   "source": [
    "- For this column, we see that the mean graduation rate is 28.36; the median is 22.5; and the min and max values are 0.0 and 100.0, respectively  "
   ]
  },
  {
   "cell_type": "markdown",
   "id": "e22968df",
   "metadata": {},
   "source": [
    "## Question 6. \n",
    "**What are some questions and prediction tools you could create using these data? Who would the stakeholder be for that prediction tool? What practical or ethical questions would it create? What other data would you want, that are not available in your data?**"
   ]
  },
  {
   "cell_type": "markdown",
   "id": "abe7d456",
   "metadata": {},
   "source": [
    "**1. Potential Questions:**\n",
    "- What mix of factors does the best job at predicting retention rates?\n",
    "- Which students are at a high risk of not graduating within 6-years of admission?\n",
    "- How do a school's characteristics shape individual student outcomes?\n",
    "- How does the type of institution (public, private, for-profit), affect outcomes?\n",
    "- How does geograpic location affect a student's chance of success?\n",
    "\n",
    "**2. Prediction Tools:**\n",
    "- A dashboard that can be used to flag students at risk of dropping out or and graduating within 6 years\n",
    "- Benchmarking tool that can be used to compare the retention rates and graduation predictors across different schools\n",
    "-  Geograpic maps for institutional success that can link outcomes to other regional factors (e.g. cost of living)\n",
    "\n",
    "**3. Stakeholders:**\n",
    "- Universities and educational institutions who would want to identify and support at-risk students\n",
    "- Students and families who could use tools to choose schools that give them the best chance at success\n",
    "- Accredation bodies that could use these tools for quality assurance and evaluating instituions\n",
    "- State and Federal policymakers that could use tools to determine where to allocate resources and funding, as well as designing interventions\n",
    "- Researchers who could use these tools for adademic studies and research\n",
    "\n",
    "**4. Practical and Ethical Questions and Considerations:**\n",
    "- Could labeling a student as \"at-risk\" stigmatize them? (\"underperforming\" labels can create self-fulfilling prophecies)\n",
    "- What potential biases in the data could be affecting the applicability and generalizability of the tools? (How do we make sure predictions don't reflect or reinforce existing biases?)\n",
    "- Who should be provided access to these tools?\n",
    "- Graduation data an inherent lag of 4-6 years.\n",
    "- Just because there is correlation does not we have causation\n",
    "- Aggredated data might enable individual identification (student privacy concerns)\n",
    "- Public ranking of institutions could have an unfair impact (i.e. smaller institutions with less data, could introduce more bias)\n",
    "\n",
    "**5. Other Data:**\n",
    "- Socioeconomic background: family income, \n",
    "- institutional access and resource allocation to mental health resources\n",
    "- geographic economic conditions by instituional location (e.g. local job markets, cost of living, economic opportunities)\n",
    "- post-graduation success : employment rates, career satisfaction, average graduate starting salaries\n",
    "- survey data - student satisfaction, sense of belonging, well-being\n",
    "\n",
    "\n",
    "\n",
    "\n"
   ]
  },
  {
   "cell_type": "markdown",
   "id": "c739d288",
   "metadata": {},
   "source": [
    "## Question 7. \n",
    "Commit your work to the repo (`git commit -am 'Finish assignment'` at the command line, or use the Git panel in VS Code). Push your work back to Github and submit the link on Canvas in the assignment tab."
   ]
  }
 ],
 "metadata": {
  "kernelspec": {
   "display_name": "base",
   "language": "python",
   "name": "python3"
  },
  "language_info": {
   "codemirror_mode": {
    "name": "ipython",
    "version": 3
   },
   "file_extension": ".py",
   "mimetype": "text/x-python",
   "name": "python",
   "nbconvert_exporter": "python",
   "pygments_lexer": "ipython3",
   "version": "3.13.2"
  }
 },
 "nbformat": 4,
 "nbformat_minor": 5
}
